{
 "cells": [
  {
   "cell_type": "code",
   "execution_count": 2,
   "metadata": {
    "executionInfo": {
     "elapsed": 918,
     "status": "ok",
     "timestamp": 1619194351776,
     "user": {
      "displayName": "Manish",
      "photoUrl": "https://lh3.googleusercontent.com/a-/AOh14GhOzgftugjGlwJUwrdbX5XDqgTGARnH3uoArR2dPw=s64",
      "userId": "13981823828669335483"
     },
     "user_tz": -120
    },
    "id": "1R_iVP2P9TCu"
   },
   "outputs": [],
   "source": [
    "import numpy as np\n",
    "import matplotlib.pyplot as plt\n",
    "import torch\n",
    "import torchvision\n",
    "import torchvision.transforms as transforms"
   ]
  },
  {
   "cell_type": "code",
   "execution_count": null,
   "metadata": {
    "colab": {
     "base_uri": "https://localhost:8080/",
     "height": 354
    },
    "executionInfo": {
     "elapsed": 1011,
     "status": "ok",
     "timestamp": 1615900346044,
     "user": {
      "displayName": "Manish",
      "photoUrl": "https://lh3.googleusercontent.com/a-/AOh14GhOzgftugjGlwJUwrdbX5XDqgTGARnH3uoArR2dPw=s64",
      "userId": "13981823828669335483"
     },
     "user_tz": -60
    },
    "id": "LaJgOwXhEpIs",
    "outputId": "374bb5da-de95-4b02-8bab-567d14007d2e"
   },
   "outputs": [
    {
     "name": "stdout",
     "output_type": "stream",
     "text": [
      "(20000, 1, 28, 28) float32\n",
      "(20000,) int64\n",
      "(2000, 1, 28, 28) float32\n"
     ]
    },
    {
     "data": {
      "image/png": "[encoded data removed]",
      "text/plain": [
       "<Figure size 432x288 with 1 Axes>"
      ]
     },
     "metadata": {
      "needs_background": "light",
      "tags": []
     },
     "output_type": "display_data"
    }
   ],
   "source": [
    "# Load and read data from .npz file\n",
    "with np.load('prediction-challenge-01-data.npz') as fh:\n",
    "    data_x = fh['data_x']\n",
    "    data_y = fh['data_y']\n",
    "    test_x = fh['test_x']\n",
    "\n",
    "# TRAINING DATA: INPUT (x) AND OUTPUT (y)\n",
    "# 1. INDEX: IMAGE SERIAL NUMBER\n",
    "# 2. INDEX: COLOR CHANNEL\n",
    "# 3/4. INDEX: PIXEL VALUE\n",
    "print(data_x.shape, data_x.dtype)\n",
    "print(data_y.shape, data_y.dtype)\n",
    "\n",
    "# TEST DATA: INPUT (x) ONLY\n",
    "print(test_x.shape, test_x.dtype)\n",
    "\n",
    "# Data Visulisation\n",
    "plt.imshow(data_x[0, 0])\n",
    "plt.title(data_y[0])\n",
    "plt.show()"
   ]
  },
  {
   "cell_type": "markdown",
   "metadata": {
    "id": "OgkVd8PaIGjt"
   },
   "source": [
    "# Data Processing"
   ]
  },
  {
   "cell_type": "code",
   "execution_count": null,
   "metadata": {
    "id": "vlCbIPO7FHRE"
   },
   "outputs": [],
   "source": [
    "# set training and validation set and test_set lengths\n",
    "data_len = data_x.shape[0]\n",
    "train_len, val_len = int(data_len * 0.8), int(data_len * 0.95)\n",
    "#random indices data \n",
    "indices = np.random.permutation(data_x.shape[0])\n",
    "train_idx, val_idx, test_idx = indices[:train_len], indices[train_len:val_len], indices[val_len:]\n",
    "# make train, val and test set\n",
    "train_x, train_y = data_x[:train_len], data_y[:train_len]\n",
    "val_x, val_y = data_x[train_len:val_len], data_y[train_len:val_len]\n",
    "intest_x, intest_y = data_x[val_len:], data_y[val_len:]\n"
   ]
  },
  {
   "cell_type": "markdown",
   "metadata": {
    "id": "eC7Q70UslB6W"
   },
   "source": [
    "# Mean\n",
    "\n",
    "Mean subtraction is the most common form of preprocessing. It involves subtracting the mean across every individual feature in the data\n",
    "\n",
    "#Normalisation\n",
    "in case of images, the relative scales of pixels are already approximately equal (and in range from 0 to 255), so it is not strictly necessary to perform this additional preprocessing step.\n",
    "\n",
    "https://cs231n.github.io/neural-networks-2/\n",
    "\n",
    "#Weight initialstion\n",
    "https://arxiv.org/abs/1502.01852"
   ]
  },
  {
   "cell_type": "code",
   "execution_count": null,
   "metadata": {
    "id": "H2gUogDkk6a2"
   },
   "outputs": [],
   "source": [
    "#data_processing\n",
    "train_x = train_x / 255\n",
    "val_x = val_x / 255\n",
    "\n",
    "#weight initialisation if necessary\n",
    "#n = 28 * 28\n",
    "#w = np.random.randn(n) * np.sqrt(2.0/n)"
   ]
  },
  {
   "cell_type": "markdown",
   "metadata": {
    "id": "fnLNEwCjIaSq"
   },
   "source": [
    "# Data set up for pytorch"
   ]
  },
  {
   "cell_type": "code",
   "execution_count": null,
   "metadata": {
    "id": "dhATwR-LiEga"
   },
   "outputs": [],
   "source": [
    "# Data processing for pytorch\n",
    "import torch\n",
    "from torch.utils.data import TensorDataset\n",
    "from torch.utils.data import DataLoader\n",
    "\n",
    "train_xt, train_yt, val_xt, val_yt, intest_xt, intest_yt = map(\n",
    "    torch.tensor, (train_x, train_y, val_x, val_y, intest_x, intest_y)\n",
    ")\n",
    "\n",
    "bs = 64  # batch size\n",
    "train_ds = TensorDataset(train_xt, train_yt)\n",
    "train_dl = DataLoader(train_ds, batch_size=bs, shuffle=True)\n",
    "\n",
    "valid_ds = TensorDataset(val_xt, val_yt)\n",
    "valid_dl = DataLoader(valid_ds, batch_size=50)"
   ]
  },
  {
   "cell_type": "markdown",
   "metadata": {
    "id": "-ZMgG7tPdnQz"
   },
   "source": [
    "# Define a Neural Network\n",
    "\n",
    "# with Linear layers : DO NOT GIVE GOOD RESULTS\n",
    "\n"
   ]
  },
  {
   "cell_type": "code",
   "execution_count": 1,
   "metadata": {
    "executionInfo": {
     "elapsed": 3773,
     "status": "ok",
     "timestamp": 1619194350851,
     "user": {
      "displayName": "Manish",
      "photoUrl": "https://lh3.googleusercontent.com/a-/AOh14GhOzgftugjGlwJUwrdbX5XDqgTGARnH3uoArR2dPw=s64",
      "userId": "13981823828669335483"
     },
     "user_tz": -120
    },
    "id": "V81yR_n0rlth"
   },
   "outputs": [],
   "source": [
    "import torch.nn as nn"
   ]
  },
  {
   "cell_type": "code",
   "execution_count": null,
   "metadata": {
    "colab": {
     "base_uri": "https://localhost:8080/"
    },
    "executionInfo": {
     "elapsed": 368,
     "status": "ok",
     "timestamp": 1615900364260,
     "user": {
      "displayName": "Manish",
      "photoUrl": "https://lh3.googleusercontent.com/a-/AOh14GhOzgftugjGlwJUwrdbX5XDqgTGARnH3uoArR2dPw=s64",
      "userId": "13981823828669335483"
     },
     "user_tz": -60
    },
    "id": "S78XlrTaplis",
    "outputId": "d4210dd2-379b-4730-e11f-3340df58f909"
   },
   "outputs": [
    {
     "name": "stdout",
     "output_type": "stream",
     "text": [
      "Net(\n",
      "  (layer1): Linear(in_features=784, out_features=512, bias=True)\n",
      "  (layer2): Linear(in_features=512, out_features=256, bias=True)\n",
      "  (layer3): Linear(in_features=256, out_features=64, bias=True)\n",
      "  (layer4): Linear(in_features=64, out_features=10, bias=True)\n",
      ")\n"
     ]
    }
   ],
   "source": [
    "# Trial with linear layers : NOT GOOD RESULTS\n",
    "# Style 1\n",
    "class Net(nn.Module):\n",
    "   def __init__(self):\n",
    "     super(Net, self).__init__()\n",
    "     self.layer1 = nn.Linear(28*28, 512)\n",
    "     self.layer2 = nn.Linear(in_features=512, out_features=256)\n",
    "     self.layer3 = nn.Linear(in_features=256, out_features=64)\n",
    "     self.layer4 = nn.Linear(in_features=64, out_features=10)\n",
    "\n",
    "   def forward(self,x):\n",
    "     x = x.view(x.shape[0],-1)  #input X (64,1,28,28) reshape (64, 28*28) \n",
    "     out = self.layer1(x) #(64, 28*28) and (28*28, 512) gives (64, 512)\n",
    "     out1 = nn.functional.relu(out)\n",
    "\n",
    "     out2 = self.layer2(out1) #(64, 512) and (512, 512) gives (64, 512)\n",
    "     out2 = nn.functional.relu(out2) \n",
    "\n",
    "     out3 = self.layer3(out2) #(64, 512) and (512,10) gives (64, 10)\n",
    "     out3 = nn.functional.relu(out3) \n",
    "\n",
    "     out4 = self.layer4(out3) #(64, 512) and (512,10) gives (64, 10)\n",
    "     out4 = nn.functional.relu(out4) \n",
    "\n",
    "     return out1, out2, out3, out4\n",
    "\n",
    "net = Net()\n",
    "print(net)"
   ]
  },
  {
   "cell_type": "markdown",
   "metadata": {
    "id": "-zHRX9oMftQm"
   },
   "source": [
    "# with CONVOLUTIONAL layers : GIVES FAR BETTER RESULTS"
   ]
  },
  {
   "cell_type": "code",
   "execution_count": null,
   "metadata": {
    "colab": {
     "base_uri": "https://localhost:8080/"
    },
    "executionInfo": {
     "elapsed": 450,
     "status": "ok",
     "timestamp": 1615902359158,
     "user": {
      "displayName": "Manish",
      "photoUrl": "https://lh3.googleusercontent.com/a-/AOh14GhOzgftugjGlwJUwrdbX5XDqgTGARnH3uoArR2dPw=s64",
      "userId": "13981823828669335483"
     },
     "user_tz": -60
    },
    "id": "zLn529QIRSK9",
    "outputId": "82c2bf10-142a-4341-93da-b64e080e8759"
   },
   "outputs": [
    {
     "name": "stdout",
     "output_type": "stream",
     "text": [
      "Net(\n",
      "  (layer1): Sequential(\n",
      "    (0): Conv2d(1, 32, kernel_size=(5, 5), stride=(1, 1))\n",
      "    (1): ReLU()\n",
      "    (2): MaxPool2d(kernel_size=2, stride=2, padding=0, dilation=1, ceil_mode=False)\n",
      "  )\n",
      "  (layer2): Sequential(\n",
      "    (0): Conv2d(32, 64, kernel_size=(5, 5), stride=(1, 1))\n",
      "    (1): ReLU()\n",
      "    (2): MaxPool2d(kernel_size=2, stride=2, padding=0, dilation=1, ceil_mode=False)\n",
      "  )\n",
      "  (fc1): Linear(in_features=1024, out_features=64, bias=True)\n",
      "  (fc2): Linear(in_features=64, out_features=10, bias=True)\n",
      ")\n"
     ]
    }
   ],
   "source": [
    "# Sequential way Conv : GOOD RESULTS\n",
    "class Net(nn.Module):\n",
    "    def __init__(self):\n",
    "        super(Net, self).__init__()\n",
    "            #layer 1\n",
    "        self.layer1 = nn.Sequential(\n",
    "            nn.Conv2d(in_channels=1, out_channels=32, kernel_size=5, \n",
    "                      stride=1,padding=0 ),\n",
    "                      nn.ReLU(),\n",
    "                      nn.MaxPool2d(kernel_size=2, stride=2)\n",
    "                      )\n",
    "        #Layer 2\n",
    "        self.layer2 = nn.Sequential(\n",
    "            nn.Conv2d(in_channels=32, out_channels=64, \n",
    "                      kernel_size=5, stride=1,padding=0),\n",
    "                      nn.ReLU(),\n",
    "                      nn.MaxPool2d(kernel_size=2, stride=2)\n",
    "                      )\n",
    "\n",
    "        #layer fc1\n",
    "        self.fc1 = nn.Linear(in_features=4*4*64, out_features=64)\n",
    "        #layer fc2\n",
    "        self.fc2 = nn.Linear(in_features=64, out_features=10)\n",
    "        \n",
    "\n",
    "    def forward(self, x):\n",
    "        out1 = self.layer1(x)\n",
    "        out2 = self.layer2(out1)\n",
    "        out2 = out2.view(out2.shape[0],-1)\n",
    "        out3 = self.fc1(out2)\n",
    "        out4 = self.fc2(out3)\n",
    "        return out1, out2, out3, out4\n",
    "net = Net()\n",
    "print(net)"
   ]
  },
  {
   "cell_type": "markdown",
   "metadata": {
    "id": "D7B2Hmtxiqjx"
   },
   "source": [
    "# Define a Loss function and optimizer"
   ]
  },
  {
   "cell_type": "code",
   "execution_count": null,
   "metadata": {
    "id": "pykgCLpBdk1N"
   },
   "outputs": [],
   "source": [
    "learning_rate = 0.001\n",
    "criterion = nn.CrossEntropyLoss()\n",
    "optimizer = torch.optim.Adam(net.parameters(),lr = learning_rate)\n",
    "#optimizer = torch.optim.SGD(net.parameters(), lr=0.001, momentum=0.9)"
   ]
  },
  {
   "cell_type": "markdown",
   "metadata": {
    "id": "C9JFO_s0kkJe"
   },
   "source": [
    "# Train the network"
   ]
  },
  {
   "cell_type": "markdown",
   "metadata": {
    "id": "ELYw-BOaQT_8"
   },
   "source": [
    "model.eval() is a kind of switch for some specific layers/parts of the model that behave differently during training and inference (evaluating) time. For example, Dropouts Layers, BatchNorm Layers etc. You need to turn off them during model evaluation, and .eval() will do it for you. In addition, the common practice for evaluating/validation is using torch.no_grad() in pair with model.eval() to turn off gradients computation.\n",
    "\n",
    "model.eval() will notify all your layers that you are in eval mode, that way, batchnorm or dropout layers will work in eval mode instead of training mode.\n",
    "torch.no_grad() impacts the autograd engine and deactivate it. It will reduce memory usage and speed up computations but you won’t be able to backprop (which you don’t want in an eval script).\n",
    "\n",
    "model.train() tells your model that you are training the model. So effectively layers like dropout, batchnorm etc. which behave different on the train and test procedures know what is going on and hence can behave accordingly. it just set the mode."
   ]
  },
  {
   "cell_type": "code",
   "execution_count": null,
   "metadata": {
    "colab": {
     "base_uri": "https://localhost:8080/"
    },
    "executionInfo": {
     "elapsed": 190867,
     "status": "ok",
     "timestamp": 1615902559155,
     "user": {
      "displayName": "Manish",
      "photoUrl": "https://lh3.googleusercontent.com/a-/AOh14GhOzgftugjGlwJUwrdbX5XDqgTGARnH3uoArR2dPw=s64",
      "userId": "13981823828669335483"
     },
     "user_tz": -60
    },
    "id": "32vfQARh-W0H",
    "outputId": "7c52351c-812d-481a-ecb4-1f7b590dff10"
   },
   "outputs": [
    {
     "name": "stdout",
     "output_type": "stream",
     "text": [
      "\n",
      "Epoch 1\n",
      "-------------------------------\n",
      "loss: 0.012144  [ 1600/16000]\n",
      "loss: 0.004359  [ 3200/16000]\n",
      "loss: 0.002488  [ 4800/16000]\n",
      "loss: 0.002059  [ 6400/16000]\n",
      "loss: 0.001774  [ 8000/16000]\n",
      "loss: 0.001546  [ 9600/16000]\n",
      "loss: 0.001480  [11200/16000]\n",
      "loss: 0.001084  [12800/16000]\n",
      "loss: 0.001010  [14400/16000]\n",
      "loss: 0.000926  [16000/16000]\n",
      "Training avg loss: 0.005774\n",
      "Validation Accuracy: 96.5%, validation avg loss: 0.002190\n",
      "model saved\n",
      "\n",
      "\n",
      "Epoch 2\n",
      "-------------------------------\n",
      "loss: 0.000815  [ 1600/16000]\n",
      "loss: 0.000796  [ 3200/16000]\n",
      "loss: 0.000766  [ 4800/16000]\n",
      "loss: 0.000761  [ 6400/16000]\n",
      "loss: 0.000747  [ 8000/16000]\n",
      "loss: 0.000894  [ 9600/16000]\n",
      "loss: 0.000597  [11200/16000]\n",
      "loss: 0.000730  [12800/16000]\n",
      "loss: 0.000628  [14400/16000]\n",
      "loss: 0.000789  [16000/16000]\n",
      "Training avg loss: 0.001504\n",
      "Validation Accuracy: 97.1%, validation avg loss: 0.001890\n",
      "model saved\n",
      "\n",
      "\n",
      "Epoch 3\n",
      "-------------------------------\n",
      "loss: 0.000543  [ 1600/16000]\n",
      "loss: 0.000528  [ 3200/16000]\n",
      "loss: 0.000513  [ 4800/16000]\n",
      "loss: 0.000452  [ 6400/16000]\n",
      "loss: 0.000525  [ 8000/16000]\n",
      "loss: 0.000591  [ 9600/16000]\n",
      "loss: 0.000353  [11200/16000]\n",
      "loss: 0.000489  [12800/16000]\n",
      "loss: 0.000591  [14400/16000]\n",
      "loss: 0.000307  [16000/16000]\n",
      "Training avg loss: 0.000978\n",
      "Validation Accuracy: 97.9%, validation avg loss: 0.001322\n",
      "model saved\n",
      "\n",
      "\n",
      "Epoch 4\n",
      "-------------------------------\n",
      "loss: 0.000333  [ 1600/16000]\n",
      "loss: 0.000277  [ 3200/16000]\n",
      "loss: 0.000506  [ 4800/16000]\n",
      "loss: 0.000415  [ 6400/16000]\n",
      "loss: 0.000392  [ 8000/16000]\n",
      "loss: 0.000301  [ 9600/16000]\n",
      "loss: 0.000371  [11200/16000]\n",
      "loss: 0.000440  [12800/16000]\n",
      "loss: 0.000289  [14400/16000]\n",
      "loss: 0.000304  [16000/16000]\n",
      "Training avg loss: 0.000725\n",
      "Validation Accuracy: 98.5%, validation avg loss: 0.001083\n",
      "model saved\n",
      "\n",
      "\n",
      "Epoch 5\n",
      "-------------------------------\n",
      "loss: 0.000288  [ 1600/16000]\n",
      "loss: 0.000247  [ 3200/16000]\n",
      "loss: 0.000254  [ 4800/16000]\n",
      "loss: 0.000213  [ 6400/16000]\n",
      "loss: 0.000336  [ 8000/16000]\n",
      "loss: 0.000382  [ 9600/16000]\n",
      "loss: 0.000296  [11200/16000]\n",
      "loss: 0.000316  [12800/16000]\n",
      "loss: 0.000245  [14400/16000]\n",
      "loss: 0.000219  [16000/16000]\n",
      "Training avg loss: 0.000559\n",
      "Validation Accuracy: 98.5%, validation avg loss: 0.000985\n",
      "model saved\n",
      "\n",
      "\n",
      "Epoch 6\n",
      "-------------------------------\n",
      "loss: 0.000148  [ 1600/16000]\n",
      "loss: 0.000226  [ 3200/16000]\n",
      "loss: 0.000172  [ 4800/16000]\n",
      "loss: 0.000206  [ 6400/16000]\n",
      "loss: 0.000364  [ 8000/16000]\n",
      "loss: 0.000255  [ 9600/16000]\n",
      "loss: 0.000251  [11200/16000]\n",
      "loss: 0.000170  [12800/16000]\n",
      "loss: 0.000149  [14400/16000]\n",
      "loss: 0.000202  [16000/16000]\n",
      "Training avg loss: 0.000429\n",
      "Validation Accuracy: 98.0%, validation avg loss: 0.001439\n",
      "\n",
      "Epoch 7\n",
      "-------------------------------\n",
      "loss: 0.000150  [ 1600/16000]\n",
      "loss: 0.000096  [ 3200/16000]\n",
      "loss: 0.000181  [ 4800/16000]\n",
      "loss: 0.000265  [ 6400/16000]\n",
      "loss: 0.000231  [ 8000/16000]\n",
      "loss: 0.000200  [ 9600/16000]\n",
      "loss: 0.000142  [11200/16000]\n",
      "loss: 0.000139  [12800/16000]\n",
      "loss: 0.000211  [14400/16000]\n",
      "loss: 0.000188  [16000/16000]\n",
      "Training avg loss: 0.000361\n",
      "Validation Accuracy: 98.0%, validation avg loss: 0.001419\n",
      "\n",
      "Epoch 8\n",
      "-------------------------------\n",
      "loss: 0.000153  [ 1600/16000]\n",
      "loss: 0.000125  [ 3200/16000]\n",
      "loss: 0.000121  [ 4800/16000]\n",
      "loss: 0.000097  [ 6400/16000]\n",
      "loss: 0.000061  [ 8000/16000]\n",
      "loss: 0.000154  [ 9600/16000]\n",
      "loss: 0.000190  [11200/16000]\n",
      "loss: 0.000259  [12800/16000]\n",
      "loss: 0.000252  [14400/16000]\n",
      "loss: 0.000233  [16000/16000]\n",
      "Training avg loss: 0.000329\n",
      "Validation Accuracy: 98.8%, validation avg loss: 0.000981\n",
      "model saved\n",
      "\n",
      "\n",
      "Epoch 9\n",
      "-------------------------------\n",
      "loss: 0.000142  [ 1600/16000]\n",
      "loss: 0.000082  [ 3200/16000]\n",
      "loss: 0.000055  [ 4800/16000]\n",
      "loss: 0.000087  [ 6400/16000]\n",
      "loss: 0.000116  [ 8000/16000]\n",
      "loss: 0.000106  [ 9600/16000]\n",
      "loss: 0.000087  [11200/16000]\n",
      "loss: 0.000120  [12800/16000]\n",
      "loss: 0.000125  [14400/16000]\n",
      "loss: 0.000141  [16000/16000]\n",
      "Training avg loss: 0.000212\n",
      "Validation Accuracy: 98.2%, validation avg loss: 0.001291\n",
      "\n",
      "Epoch 10\n",
      "-------------------------------\n",
      "loss: 0.000072  [ 1600/16000]\n",
      "loss: 0.000126  [ 3200/16000]\n",
      "loss: 0.000130  [ 4800/16000]\n",
      "loss: 0.000127  [ 6400/16000]\n",
      "loss: 0.000066  [ 8000/16000]\n",
      "loss: 0.000063  [ 9600/16000]\n",
      "loss: 0.000063  [11200/16000]\n",
      "loss: 0.000106  [12800/16000]\n",
      "loss: 0.000106  [14400/16000]\n",
      "loss: 0.000042  [16000/16000]\n",
      "Training avg loss: 0.000180\n",
      "Validation Accuracy: 98.6%, validation avg loss: 0.001213\n",
      "\n",
      "Epoch 11\n",
      "-------------------------------\n",
      "loss: 0.000070  [ 1600/16000]\n",
      "loss: 0.000066  [ 3200/16000]\n",
      "loss: 0.000076  [ 4800/16000]\n",
      "loss: 0.000080  [ 6400/16000]\n",
      "loss: 0.000046  [ 8000/16000]\n",
      "loss: 0.000052  [ 9600/16000]\n",
      "loss: 0.000096  [11200/16000]\n",
      "loss: 0.000154  [12800/16000]\n",
      "loss: 0.000094  [14400/16000]\n",
      "loss: 0.000209  [16000/16000]\n",
      "Training avg loss: 0.000188\n",
      "Validation Accuracy: 98.5%, validation avg loss: 0.001278\n",
      "\n",
      "Epoch 12\n",
      "-------------------------------\n",
      "loss: 0.000095  [ 1600/16000]\n",
      "loss: 0.000063  [ 3200/16000]\n",
      "loss: 0.000073  [ 4800/16000]\n",
      "loss: 0.000130  [ 6400/16000]\n",
      "loss: 0.000082  [ 8000/16000]\n",
      "loss: 0.000059  [ 9600/16000]\n",
      "loss: 0.000035  [11200/16000]\n",
      "loss: 0.000043  [12800/16000]\n",
      "loss: 0.000040  [14400/16000]\n",
      "loss: 0.000073  [16000/16000]\n",
      "Training avg loss: 0.000139\n",
      "Validation Accuracy: 98.6%, validation avg loss: 0.001289\n",
      "\n",
      "Epoch 13\n",
      "-------------------------------\n",
      "loss: 0.000053  [ 1600/16000]\n",
      "loss: 0.000043  [ 3200/16000]\n",
      "loss: 0.000039  [ 4800/16000]\n",
      "loss: 0.000081  [ 6400/16000]\n",
      "loss: 0.000051  [ 8000/16000]\n",
      "loss: 0.000055  [ 9600/16000]\n",
      "loss: 0.000061  [11200/16000]\n",
      "loss: 0.000066  [12800/16000]\n",
      "loss: 0.000055  [14400/16000]\n",
      "loss: 0.000033  [16000/16000]\n",
      "Training avg loss: 0.000107\n",
      "Validation Accuracy: 99.0%, validation avg loss: 0.001009\n",
      "\n",
      "Epoch 14\n",
      "-------------------------------\n",
      "loss: 0.000086  [ 1600/16000]\n",
      "loss: 0.000055  [ 3200/16000]\n",
      "loss: 0.000034  [ 4800/16000]\n",
      "loss: 0.000050  [ 6400/16000]\n",
      "loss: 0.000051  [ 8000/16000]\n",
      "loss: 0.000021  [ 9600/16000]\n",
      "loss: 0.000016  [11200/16000]\n",
      "loss: 0.000014  [12800/16000]\n",
      "loss: 0.000019  [14400/16000]\n",
      "loss: 0.000025  [16000/16000]\n",
      "Training avg loss: 0.000074\n",
      "Validation Accuracy: 99.0%, validation avg loss: 0.001070\n",
      "\n",
      "Epoch 15\n",
      "-------------------------------\n",
      "loss: 0.000026  [ 1600/16000]\n",
      "loss: 0.000030  [ 3200/16000]\n",
      "loss: 0.000012  [ 4800/16000]\n",
      "loss: 0.000005  [ 6400/16000]\n",
      "loss: 0.000003  [ 8000/16000]\n",
      "loss: 0.000006  [ 9600/16000]\n",
      "loss: 0.000009  [11200/16000]\n",
      "loss: 0.000013  [12800/16000]\n",
      "loss: 0.000035  [14400/16000]\n",
      "loss: 0.000030  [16000/16000]\n",
      "Training avg loss: 0.000034\n",
      "Validation Accuracy: 98.7%, validation avg loss: 0.001269\n",
      "\n",
      "Epoch 16\n",
      "-------------------------------\n",
      "loss: 0.000111  [ 1600/16000]\n",
      "loss: 0.000128  [ 3200/16000]\n",
      "loss: 0.000036  [ 4800/16000]\n",
      "loss: 0.000072  [ 6400/16000]\n",
      "loss: 0.000095  [ 8000/16000]\n",
      "loss: 0.000207  [ 9600/16000]\n",
      "loss: 0.000148  [11200/16000]\n",
      "loss: 0.000151  [12800/16000]\n",
      "loss: 0.000119  [14400/16000]\n",
      "loss: 0.000098  [16000/16000]\n",
      "Training avg loss: 0.000233\n",
      "Validation Accuracy: 98.0%, validation avg loss: 0.001801\n",
      "\n",
      "Epoch 17\n",
      "-------------------------------\n",
      "loss: 0.000104  [ 1600/16000]\n",
      "loss: 0.000094  [ 3200/16000]\n",
      "loss: 0.000156  [ 4800/16000]\n",
      "loss: 0.000044  [ 6400/16000]\n",
      "loss: 0.000100  [ 8000/16000]\n",
      "loss: 0.000061  [ 9600/16000]\n",
      "loss: 0.000036  [11200/16000]\n",
      "loss: 0.000050  [12800/16000]\n",
      "loss: 0.000014  [14400/16000]\n",
      "loss: 0.000014  [16000/16000]\n",
      "Training avg loss: 0.000135\n",
      "Validation Accuracy: 98.7%, validation avg loss: 0.001165\n",
      "\n",
      "Epoch 18\n",
      "-------------------------------\n",
      "loss: 0.000020  [ 1600/16000]\n",
      "loss: 0.000009  [ 3200/16000]\n",
      "loss: 0.000007  [ 4800/16000]\n",
      "loss: 0.000010  [ 6400/16000]\n",
      "loss: 0.000009  [ 8000/16000]\n",
      "loss: 0.000008  [ 9600/16000]\n",
      "loss: 0.000011  [11200/16000]\n",
      "loss: 0.000022  [12800/16000]\n",
      "loss: 0.000025  [14400/16000]\n",
      "loss: 0.000033  [16000/16000]\n",
      "Training avg loss: 0.000031\n",
      "Validation Accuracy: 98.6%, validation avg loss: 0.001429\n",
      "\n",
      "Epoch 19\n",
      "-------------------------------\n",
      "loss: 0.000019  [ 1600/16000]\n",
      "loss: 0.000010  [ 3200/16000]\n",
      "loss: 0.000005  [ 4800/16000]\n",
      "loss: 0.000020  [ 6400/16000]\n",
      "loss: 0.000032  [ 8000/16000]\n",
      "loss: 0.000009  [ 9600/16000]\n",
      "loss: 0.000006  [11200/16000]\n",
      "loss: 0.000006  [12800/16000]\n",
      "loss: 0.000005  [14400/16000]\n",
      "loss: 0.000003  [16000/16000]\n",
      "Training avg loss: 0.000023\n",
      "Validation Accuracy: 98.8%, validation avg loss: 0.001188\n",
      "\n",
      "Epoch 20\n",
      "-------------------------------\n",
      "loss: 0.000001  [ 1600/16000]\n",
      "loss: 0.000001  [ 3200/16000]\n",
      "loss: 0.000001  [ 4800/16000]\n",
      "loss: 0.000001  [ 6400/16000]\n",
      "loss: 0.000002  [ 8000/16000]\n",
      "loss: 0.000001  [ 9600/16000]\n",
      "loss: 0.000001  [11200/16000]\n",
      "loss: 0.000001  [12800/16000]\n",
      "loss: 0.000009  [14400/16000]\n",
      "loss: 0.000009  [16000/16000]\n",
      "Training avg loss: 0.000005\n",
      "Validation Accuracy: 98.8%, validation avg loss: 0.001141\n"
     ]
    }
   ],
   "source": [
    "from torch import nn\n",
    "training_size = len(train_dl.dataset)\n",
    "loss_epoch_trn_list, loss_epoch_val_list = [], [] # loss storage lists\n",
    "\n",
    "for epoch in range(20):\n",
    "  running_trn_loss, running_batch_trn_loss = 0.0 , 0.0\n",
    "  print(f\"\\nEpoch {epoch+1}\\n-------------------------------\")\n",
    "  \n",
    "  # TRAINING\n",
    "  net.train()\n",
    "\n",
    "  for batch_num, (input, label) in enumerate(train_dl):\n",
    "    #input, label = input.to(device), label.to(device)\n",
    "\n",
    "    # prediction\n",
    "    pred = net(input) \n",
    "    loss = criterion(pred[3], label) #evalute loss\n",
    "    \n",
    "    # backpropogation \n",
    "    loss.backward() \n",
    "    optimizer.step()\n",
    "    optimizer.zero_grad() # zeroes the parameter gradients\n",
    "    \n",
    "    # statistics\n",
    "    running_trn_loss += loss.item()\n",
    "    running_batch_trn_loss += loss.item() \n",
    "         \n",
    "    if batch_num % 25 == 24:\n",
    "      current_index = (batch_num+1) * bs\n",
    "      print(f\"loss: {running_batch_trn_loss/(50 * bs) :>7f}  [{current_index:>5d}/{training_size:>5d}]\")\n",
    "      running_batch_trn_loss = 0\n",
    "  \n",
    "  # cummulative training loss after each epoch\n",
    "  epoch_mean_trn_loss = running_trn_loss / training_size\n",
    "  loss_epoch_trn_list.append(epoch_mean_trn_loss)\n",
    "  print(f\"Training avg loss: {loss_epoch_trn_list[-1]:>7f}\")\n",
    "  \n",
    "  \n",
    "  # VALIDATION\n",
    "  net.eval()\n",
    "  \n",
    "  validation_size = len(valid_dl.dataset)\n",
    "  running_val_loss, correct_prediction = 0, 0\n",
    "  with torch.no_grad():\n",
    "    for X, y in valid_dl:\n",
    "      val_pred = net(X)\n",
    "      val_loss = criterion(val_pred[3], y)\n",
    "      running_val_loss += val_loss.item()\n",
    "      correct_prediction += (y == torch.argmax(val_pred[3],dim=1)).float().sum().item()\n",
    "  \n",
    "  val_accuracy = correct_prediction / validation_size * 100\n",
    "  epoch_mean_val_loss = running_val_loss / validation_size\n",
    "  loss_epoch_val_list.append(epoch_mean_val_loss) # append to list\n",
    "  print(f\"Validation Accuracy: {(val_accuracy):>0.1f}%, validation avg loss: {loss_epoch_val_list[-1]:>8f}\")\n",
    "\n",
    "  #saving model for minimum validation loss\n",
    "  if loss_epoch_val_list[-1] <= min(loss_epoch_val_list):\n",
    "    print(\"model saved\\n\")\n",
    "    torch.save(net, './best_mnist_net.pth')\n",
    "\n"
   ]
  },
  {
   "cell_type": "markdown",
   "metadata": {
    "id": "cXR8-1IWgXcM"
   },
   "source": [
    "# validation vs test error : Visualisation"
   ]
  },
  {
   "cell_type": "code",
   "execution_count": null,
   "metadata": {
    "colab": {
     "base_uri": "https://localhost:8080/",
     "height": 426
    },
    "executionInfo": {
     "elapsed": 889,
     "status": "ok",
     "timestamp": 1615902611069,
     "user": {
      "displayName": "Manish",
      "photoUrl": "https://lh3.googleusercontent.com/a-/AOh14GhOzgftugjGlwJUwrdbX5XDqgTGARnH3uoArR2dPw=s64",
      "userId": "13981823828669335483"
     },
     "user_tz": -60
    },
    "id": "N03vRbiinNcW",
    "outputId": "5964322b-2998-4830-b5e7-be91162e73b9"
   },
   "outputs": [
    {
     "data": {
      "image/png": "[encoded data removed]",
      "text/plain": [
       "<Figure size 720x432 with 1 Axes>"
      ]
     },
     "metadata": {
      "needs_background": "light",
      "tags": []
     },
     "output_type": "display_data"
    }
   ],
   "source": [
    "from matplotlib.ticker import (MultipleLocator, FormatStrFormatter,\n",
    "                               AutoMinorLocator)\n",
    "fig,ax = plt.subplots(figsize=(10, 6))\n",
    "x_points = np.arange(1, epoch+2, 1 )\n",
    "x_points_ = np.arange(1, epoch+3, 4 )\n",
    "ax.set_xticks(x_points_)\n",
    "ax.set_xlabel('epoch number',fontsize=15, labelpad =3)\n",
    "ax.xaxis.set_minor_locator(AutoMinorLocator(4))\n",
    "ax.yaxis.set_minor_locator(AutoMinorLocator(5))\n",
    "ax.tick_params(which='major', width=0.7,length=17,direction=\"out\" , labelleft=True )\n",
    "ax.tick_params(which='minor', width=0.7, length=10, color='r', direction=\"out\")\n",
    "ax.set_ylabel('Loss',fontsize=15, labelpad=15)\n",
    "ax.plot(x_points, loss_epoch_trn_list , color = 'black', marker='o', markersize=5 , linestyle='dashed', dashes=(15, 10),linewidth=0.2) \n",
    "ax.plot(x_points, loss_epoch_val_list , color = 'black', marker='v', markersize=5 , linestyle='solid', linewidth=0.2) \n",
    "ax.legend(['Training loss','Validation loss' ], loc='best', fontsize=15, frameon=False)\n",
    "plt.show()"
   ]
  },
  {
   "cell_type": "markdown",
   "metadata": {
    "id": "w5FOHXOxu3NL"
   },
   "source": [
    "# Load the saved model"
   ]
  },
  {
   "cell_type": "code",
   "execution_count": null,
   "metadata": {
    "id": "ZC89iDdXaRSF"
   },
   "outputs": [],
   "source": [
    "#load model and continue training\n",
    "PATH = './best_mnist_net.pth'\n",
    "our_saved_model = torch.load(PATH)\n",
    "#for training\n",
    "#new_model.train()\n",
    "#Todo make train function and run training\n",
    "#for validation\n",
    "#new_model.eval()\n",
    "#Todo make validate function and run validation"
   ]
  },
  {
   "cell_type": "markdown",
   "metadata": {
    "id": "KB0HgCPUg0md"
   },
   "source": [
    "# Generalisation in the test set"
   ]
  },
  {
   "cell_type": "code",
   "execution_count": null,
   "metadata": {
    "id": "pB0kM5SeTjc3"
   },
   "outputs": [],
   "source": [
    "intest_x = intest_x / 255\n",
    "intest_xt = torch.tensor(intest_x)"
   ]
  },
  {
   "cell_type": "code",
   "execution_count": null,
   "metadata": {
    "colab": {
     "base_uri": "https://localhost:8080/"
    },
    "executionInfo": {
     "elapsed": 799,
     "status": "ok",
     "timestamp": 1615903221068,
     "user": {
      "displayName": "Manish",
      "photoUrl": "https://lh3.googleusercontent.com/a-/AOh14GhOzgftugjGlwJUwrdbX5XDqgTGARnH3uoArR2dPw=s64",
      "userId": "13981823828669335483"
     },
     "user_tz": -60
    },
    "id": "mt_ouJ7cCGT_",
    "outputId": "43c63c3b-bbe2-475b-a002-678e2cc03596"
   },
   "outputs": [
    {
     "name": "stdout",
     "output_type": "stream",
     "text": [
      "Testset Accuracy: 98.6%\n"
     ]
    }
   ],
   "source": [
    "test_size = intest_xt.shape[0]\n",
    "our_saved_model.eval()\n",
    "with torch.no_grad():\n",
    "  test_predi = our_saved_model(intest_xt)\n",
    "  correct_pred = intest_yt.eq(torch.argmax(test_predi[3],dim=1))\n",
    "  correct_pred = correct_pred.float().sum().item()\n",
    "  nd_test_prediction = torch.argmax(test_predi[3],dim=1).numpy()\n",
    "  test_accuracy = correct_pred / test_size * 100\n",
    "  print(f\"Testset Accuracy: {(test_accuracy):>0.1f}%\")"
   ]
  },
  {
   "cell_type": "markdown",
   "metadata": {
    "id": "eCU0DhjduvO8"
   },
   "source": [
    "#access parameters of a layer"
   ]
  },
  {
   "cell_type": "code",
   "execution_count": null,
   "metadata": {
    "id": "C4I0tgP-s1iw"
   },
   "outputs": [],
   "source": [
    "#parameters of a layer\n",
    "weights_4 = net.layer4.weight\n",
    "bias_4 = net.layer4.bias\n",
    "print(weights_4.shape)\n",
    "print(bias_4.shape)"
   ]
  },
  {
   "cell_type": "markdown",
   "metadata": {
    "id": "4nkj4QpbnRSz"
   },
   "source": [
    "# model parameters"
   ]
  },
  {
   "cell_type": "code",
   "execution_count": null,
   "metadata": {
    "colab": {
     "base_uri": "https://localhost:8080/"
    },
    "executionInfo": {
     "elapsed": 558,
     "status": "ok",
     "timestamp": 1615841336848,
     "user": {
      "displayName": "Manish",
      "photoUrl": "https://lh3.googleusercontent.com/a-/AOh14GhOzgftugjGlwJUwrdbX5XDqgTGARnH3uoArR2dPw=s64",
      "userId": "13981823828669335483"
     },
     "user_tz": -60
    },
    "id": "KqTm-HUC72Pu",
    "outputId": "1e47cf16-04c1-4cf1-d57f-08ce4bd3a906"
   },
   "outputs": [
    {
     "name": "stdout",
     "output_type": "stream",
     "text": [
      "Model's state_dict:\n",
      "layer1.weight \t torch.Size([512, 784])\n",
      "layer1.bias \t torch.Size([512])\n",
      "layer2.weight \t torch.Size([256, 512])\n",
      "layer2.bias \t torch.Size([256])\n",
      "layer3.weight \t torch.Size([64, 256])\n",
      "layer3.bias \t torch.Size([64])\n",
      "layer4.weight \t torch.Size([10, 64])\n",
      "layer4.bias \t torch.Size([10])\n"
     ]
    }
   ],
   "source": [
    "# Print model's state_dict\n",
    "print(\"Model's state_dict:\")\n",
    "for param_tensor in net.state_dict():\n",
    "    print(param_tensor, \"\\t\", net.state_dict()[param_tensor].size())\n",
    "\n",
    "# Print optimizer's state_dict\n",
    "#print(\"Optimizer's state_dict:\")\n",
    "#for var_name in optimizer.state_dict():\n",
    "#    print(var_name, \"\\t\", optimizer.state_dict()[var_name])"
   ]
  },
  {
   "cell_type": "markdown",
   "metadata": {
    "id": "fHNsGF36zBxE"
   },
   "source": [
    "# Visualize feature map\n",
    "\n",
    "https://discuss.pytorch.org/t/visualize-feature-map/29597\n",
    "\n",
    "detach function\n",
    "\n",
    "http://www.bnikolic.co.uk/blog/pytorch-detach.html\n",
    "\n",
    "1. detach() detaches the output from the computationnal graph. So no gradient will be backproped along this variable.\n",
    "torch.no_grad says that no operation should build the graph.\n",
    "\n",
    "2. The difference is that one refers to only a given variable on which it’s called. The other affects all operations taking place within the with statement.\n",
    "\n",
    "3. torch.no_grad can be used in eval phase in general.\n",
    " detach() on the other hand should not be used if you’re doing classic cnn like architectures. It is usually used for more tricky operations. detach() is useful when you want to compute something that you can’t / don’t want to differentiate. Like for example if you’re computing some indices from the output of the network and then want to use that to index a tensor. The indexing operation is not differentiable wrt the indices. So you should detach() the indices before providing them."
   ]
  },
  {
   "cell_type": "markdown",
   "metadata": {
    "id": "GMjOX4kt3xau"
   },
   "source": []
  },
  {
   "cell_type": "code",
   "execution_count": null,
   "metadata": {
    "colab": {
     "base_uri": "https://localhost:8080/"
    },
    "executionInfo": {
     "elapsed": 521,
     "status": "ok",
     "timestamp": 1615842196388,
     "user": {
      "displayName": "Manish",
      "photoUrl": "https://lh3.googleusercontent.com/a-/AOh14GhOzgftugjGlwJUwrdbX5XDqgTGARnH3uoArR2dPw=s64",
      "userId": "13981823828669335483"
     },
     "user_tz": -60
    },
    "id": "keomAaGzrsOC",
    "outputId": "3f35b225-94d8-4271-9ee0-46c13db03224"
   },
   "outputs": [
    {
     "name": "stdout",
     "output_type": "stream",
     "text": [
      "torch.Size([10, 64])\n",
      "torch.Size([10])\n"
     ]
    }
   ],
   "source": [
    "# Visualize feature maps\n",
    "activation = {}\n",
    "def get_activation(name):\n",
    "    def hook(model, input, output):\n",
    "        activation[name] = output.detach()\n",
    "    return hook\n",
    "\n",
    "model.conv1.register_forward_hook(get_activation('conv1'))\n",
    "data, _ = dataset[0]\n",
    "data.unsqueeze_(0)\n",
    "output = model(data)\n",
    "\n",
    "act = activation['conv1'].squeeze()\n",
    "fig, axarr = plt.subplots(act.size(0))\n",
    "for idx in range(act.size(0)):\n",
    "    axarr[idx].imshow(act[idx])\n",
    "\n",
    "\n",
    "for name, layer in model_1.named_modules():\n",
    "    layer.register_forward_hook(get_activation(name))\n",
    "\n",
    "x = torch.randn(1, 10)\n",
    "output = model(x)\n",
    "for key in activation:\n",
    "    print(activation[key])"
   ]
  },
  {
   "cell_type": "code",
   "execution_count": null,
   "metadata": {
    "id": "SWQxyBnXzbHo"
   },
   "outputs": [],
   "source": [
    "# Visualize conv filter\n",
    "kernels = model.conv1.weight.detach()\n",
    "fig, axarr = plt.subplots(kernels.size(0))\n",
    "for idx in range(kernels.size(0)):\n",
    "    axarr[idx].imshow(kernels[idx].squeeze())"
   ]
  },
  {
   "cell_type": "markdown",
   "metadata": {
    "id": "iecdE9QOw1fj"
   },
   "source": [
    "# paramters (weights and bias) of each layer IF sequential saved\n",
    "for example:\n",
    "            \n",
    "            self.linear_relu_stack = \n",
    "            nn.Sequential(\n",
    "            nn.Linear(28*28, 512),\n",
    "            nn.ReLU(),\n",
    "            nn.Linear(512, 512),\n",
    "            nn.ReLU(),\n",
    "            nn.Linear(512, 10),\n",
    "            nn.ReLU()"
   ]
  },
  {
   "cell_type": "code",
   "execution_count": null,
   "metadata": {
    "id": "WAx3FsV3uENM"
   },
   "outputs": [],
   "source": [
    "layer_1 = net.linear_relu_stack[0]\n",
    "print(layer_1.bias.shape)\n",
    "print(layer_1.weight.shape)"
   ]
  },
  {
   "cell_type": "code",
   "execution_count": null,
   "metadata": {
    "id": "jpUI1eJCvdOM"
   },
   "outputs": [],
   "source": [
    "for name, layer in model_1.named_modules():\n",
    "    layer.register_forward_hook(get_activation(name))\n",
    "\n",
    "x = torch.randn(1, 10)\n",
    "output = model(x)\n",
    "for key in activation:\n",
    "    print(activation[key])"
   ]
  },
  {
   "cell_type": "markdown",
   "metadata": {
    "id": "b5ZH1BwdkfQA"
   },
   "source": [
    "# Clean Code:\n",
    "Redefining network in Functional way: An example"
   ]
  },
  {
   "cell_type": "code",
   "execution_count": null,
   "metadata": {
    "id": "COhUUm2kbmTZ"
   },
   "outputs": [],
   "source": [
    "def train(dataloader, model, loss_fn, optimizer):\n",
    "  '''\n",
    "  Training phase of the network\n",
    "\n",
    "  i/p: \n",
    "  dataloader: training data loader\n",
    "  model: nueral network model object\n",
    "  loss_fn: error function criteria\n",
    "  optimizer: optimizer method\n",
    "\n",
    "  returns:\n",
    "  running_trn_loss: Training avg training loss of each epoch\n",
    "  '''\n",
    "  for batch_num, data in enumerate(train_dl):\n",
    "    #input, label = input.to(device), label.to(device)\n",
    "    input, label = data # size [64,1,128,128], [64]\n",
    "    \n",
    "    # prediction\n",
    "    pred = model(input) \n",
    "    loss = criterion(pred[3], label) #evalute loss, pred[] \n",
    "       \n",
    "    # backpropogation \n",
    "    loss.backward() \n",
    "    optimizer.step()\n",
    "    optimizer.zero_grad() # zeroes the parameter gradients\n",
    "    \n",
    "    # statistics\n",
    "    running_trn_loss += loss.item()\n",
    "    running_batch_trn_loss += loss.item() \n",
    "         \n",
    "    if batch_num % 25 == 24:\n",
    "      current_index = (batch_num+1) * bs\n",
    "      print(f\"loss: {running_batch_trn_loss/(50 * bs) :>7f}  [{current_index:>5d}/{training_size:>5d}]\")\n",
    "      running_batch_trn_loss = 0\n",
    "  epoch_mean_trn_loss = running_trn_loss / training_size\n",
    "  return epoch_mean_trn_loss\n",
    "  \n",
    "loss_epoch_trn_list.append(epoch_mean_trn_loss)\n",
    "print(f\"Training avg loss: {loss_epoch_trn_list[-1]:>7f}\")\n"
   ]
  },
  {
   "cell_type": "code",
   "execution_count": null,
   "metadata": {
    "id": "54LrD30aj_Bq"
   },
   "outputs": [],
   "source": [
    "def validation(dataloader, model, loss_fn):\n",
    "  '''\n",
    "  Validation phase of the network\n",
    "\n",
    "  i/p: \n",
    "  dataloader: validation data loader\n",
    "  model: nueral network model object\n",
    "  loss_fn: error function criteria\n",
    "\n",
    "  returns:\n",
    "  running_trn_loss: Cummulative validation loss of each epoch\n",
    "  '''\n",
    "\n",
    "  validation_size = len(dataloader.dataset)\n",
    "  running_val_loss, correct_prediction = 0, 0\n",
    "  \n",
    "  net.eval()\n",
    "  with torch.no_grad():\n",
    "    for X, y in dataloader:\n",
    "      val_pred = model(X)\n",
    "      val_loss = loss_fn(val_pred[3], y)\n",
    "      running_val_loss += val_loss.item()\n",
    "      correct_prediction += (y == torch.argmax(val_pred[3],dim=1)).float().sum().item()\n",
    "  \n",
    "  val_accuracy = correct_prediction / validation_size * 100\n",
    "  epoch_mean_val_loss = running_val_loss / validation_size\n",
    "  loss_epoch_val_list.append(epoch_mean_val_loss) # append to list\n",
    "  print(f\"Validation Accuracy: {(val_accuracy):>0.1f}%, validation avg loss: {loss_epoch_val_list[-1]:>8f} \\n\")\n",
    "\n",
    "  #saving model for minimum validation loss\n",
    "  if loss_epoch_val_list[-1] <= min(loss_epoch_val_list):\n",
    "    print(\"model saved at\", epoch)\n",
    "    torch.save(net, './best_mnist_net.pth')"
   ]
  },
  {
   "cell_type": "code",
   "execution_count": null,
   "metadata": {
    "id": "_ZH4wxb_tPEU"
   },
   "outputs": [],
   "source": [
    "#save model\n",
    "model_1 = torch.load('net.pth')"
   ]
  },
  {
   "cell_type": "markdown",
   "metadata": {
    "id": "0VEA3JQGkzM7"
   },
   "source": [
    "# Cleaner code : pytorch website"
   ]
  },
  {
   "cell_type": "code",
   "execution_count": null,
   "metadata": {
    "id": "XFsDAdMjJzQp"
   },
   "outputs": [],
   "source": [
    "def train(dataloader, model, loss_fn, optimizer):\n",
    "    size = len(dataloader.dataset)\n",
    "    for batch, (X, y) in enumerate(dataloader):\n",
    "        \n",
    "\n",
    "        # Compute prediction error\n",
    "        pred = model(X)\n",
    "        loss = loss_fn(pred, y)\n",
    "\n",
    "        # Backpropagation\n",
    "        optimizer.zero_grad()\n",
    "        loss.backward()\n",
    "        optimizer.step()\n",
    "\n",
    "        if batch % 100 == 0:\n",
    "            loss, current = loss.item(), batch * len(X)\n",
    "            print(f\"loss: {loss:>7f}  [{current:>5d}/{size:>5d}]\")\n",
    "def test(dataloader, model, loss_fn):\n",
    "    size = len(dataloader.dataset)\n",
    "    model.eval()\n",
    "    test_loss, correct = 0, 0\n",
    "    with torch.no_grad():\n",
    "        for X, y in dataloader:\n",
    "            \n",
    "            pred = model(X)\n",
    "            test_loss += loss_fn(pred, y).item()\n",
    "            correct += (pred.argmax(1) == y).type(torch.float).sum().item()\n",
    "    test_loss /= size\n",
    "    correct /= size\n",
    "    print(f\"Test Error: \\n Accuracy: {(100*correct):>0.1f}%, Avg loss: {test_loss:>8f} \\n\")\n"
   ]
  },
  {
   "cell_type": "code",
   "execution_count": null,
   "metadata": {
    "colab": {
     "base_uri": "https://localhost:8080/"
    },
    "executionInfo": {
     "elapsed": 20939,
     "status": "ok",
     "timestamp": 1615813506580,
     "user": {
      "displayName": "Manish",
      "photoUrl": "https://lh3.googleusercontent.com/a-/AOh14GhOzgftugjGlwJUwrdbX5XDqgTGARnH3uoArR2dPw=s64",
      "userId": "13981823828669335483"
     },
     "user_tz": -60
    },
    "id": "karNTivyxWuV",
    "outputId": "d34815d1-c9bb-4a05-a2ad-a1a4eafcc66a"
   },
   "outputs": [
    {
     "name": "stdout",
     "output_type": "stream",
     "text": [
      "Epoch 1\n",
      "-------------------------------\n",
      "loss: 18.486181  [    0/16000]\n",
      "loss: 18.826414  [ 6400/16000]\n",
      "loss: 19.768499  [12800/16000]\n",
      "Test Error: \n",
      " Accuracy: 1.5%, Avg loss: 0.399434 \n",
      "\n",
      "Epoch 2\n",
      "-------------------------------\n",
      "loss: 21.409977  [    0/16000]\n",
      "loss: 20.177744  [ 6400/16000]\n",
      "loss: 20.319199  [12800/16000]\n",
      "Test Error: \n",
      " Accuracy: 1.5%, Avg loss: 0.399434 \n",
      "\n",
      "Epoch 3\n",
      "-------------------------------\n",
      "loss: 20.475042  [    0/16000]\n",
      "loss: 18.319780  [ 6400/16000]\n",
      "loss: 20.737833  [12800/16000]\n",
      "Test Error: \n",
      " Accuracy: 1.5%, Avg loss: 0.399434 \n",
      "\n",
      "Epoch 4\n",
      "-------------------------------\n",
      "loss: 19.328180  [    0/16000]\n",
      "loss: 18.103186  [ 6400/16000]\n",
      "loss: 19.199057  [12800/16000]\n",
      "Test Error: \n",
      " Accuracy: 1.5%, Avg loss: 0.399434 \n",
      "\n",
      "Epoch 5\n",
      "-------------------------------\n",
      "loss: 21.236141  [    0/16000]\n",
      "loss: 20.639696  [ 6400/16000]\n",
      "loss: 19.110626  [12800/16000]\n",
      "Test Error: \n",
      " Accuracy: 1.5%, Avg loss: 0.399434 \n",
      "\n",
      "Done!\n"
     ]
    }
   ],
   "source": [
    "#Dataset is 160000 while Dataset.dataloader is and iterable of 16000/batch_size\n",
    "train_dl.dataset\n",
    "epochs = 5\n",
    "for t in range(epochs):\n",
    "    print(f\"Epoch {t+1}\\n-------------------------------\")\n",
    "    train(train_dl, net, criterion, optimizer)\n",
    "    test(valid_dl, net, criterion )\n",
    "print(\"Done!\")"
   ]
  },
  {
   "cell_type": "code",
   "execution_count": null,
   "metadata": {
    "id": "V8jp-dQXlTLB"
   },
   "outputs": [],
   "source": [
    "#code for assignment submission\n",
    "import numpy as np\n",
    "\n",
    "prediction = nd_test_prediction # THAT'S YOUR JOB\n",
    "\n",
    "# MAKE SURE THAT YOU HAVE THE RIGHT FORMAT\n",
    "assert prediction.ndim == 1\n",
    "assert prediction.shape[0] == 1000\n",
    "\n",
    "# AND SAVE EXACTLY AS SHOWN BELOW\n",
    "np.save('./prediction.npy', prediction)"
   ]
  }
 ],
 "metadata": {
  "colab": {
   "authorship_tag": "ABX9TyMU+7VNM0jdw/PK/NxFvLff",
   "collapsed_sections": [],
   "name": "deep_L1.ipynb",
   "provenance": [],
   "toc_visible": true
  },
  "kernelspec": {
   "display_name": "Python 3",
   "language": "python",
   "name": "python3"
  },
  "language_info": {
   "codemirror_mode": {
    "name": "ipython",
    "version": 3
   },
   "file_extension": ".py",
   "mimetype": "text/x-python",
   "name": "python",
   "nbconvert_exporter": "python",
   "pygments_lexer": "ipython3",
   "version": "3.7.6"
  }
 },
 "nbformat": 4,
 "nbformat_minor": 1
}
